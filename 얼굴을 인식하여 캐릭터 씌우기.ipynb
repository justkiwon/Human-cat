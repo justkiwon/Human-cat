{
 "cells": [
  {
   "cell_type": "markdown",
   "id": "6814f68d",
   "metadata": {},
   "source": [
    "# 프로젝트 : 얼굴을 인식하여 캐릭터 씌우기"
   ]
  },
  {
   "cell_type": "markdown",
   "id": "318fab39",
   "metadata": {},
   "source": [
    "패키지 설치\n",
    "> pip install mediapipe"
   ]
  },
  {
   "cell_type": "code",
   "execution_count": 1,
   "id": "f993008c",
   "metadata": {},
   "outputs": [],
   "source": [
    "import mediapipe as mp"
   ]
  },
  {
   "cell_type": "code",
   "execution_count": 2,
   "id": "e17d0837",
   "metadata": {},
   "outputs": [
    {
     "name": "stdout",
     "output_type": "stream",
     "text": [
      "label_id: 0\n",
      "score: 0.9720634\n",
      "location_data {\n",
      "  format: RELATIVE_BOUNDING_BOX\n",
      "  relative_bounding_box {\n",
      "    xmin: 0.33977893\n",
      "    ymin: 0.27596474\n",
      "    width: 0.16592523\n",
      "    height: 0.29497838\n",
      "  }\n",
      "  relative_keypoints {\n",
      "    x: 0.39748585\n",
      "    y: 0.35070306\n",
      "  }\n",
      "}\n",
      "\n",
      "label_id: 0\n",
      "score: 0.9694578\n",
      "location_data {\n",
      "  format: RELATIVE_BOUNDING_BOX\n",
      "  relative_bounding_box {\n",
      "    xmin: 0.32000145\n",
      "    ymin: 0.27940512\n",
      "    width: 0.17040458\n",
      "    height: 0.3029415\n",
      "  }\n",
      "}\n",
      "\n",
      "Ignoring empty camera frame.\n"
     ]
    },
   ],
   "source": [
    "import cv2\n",
    "import mediapipe as mp\n",
    "\n",
    "#얼굴을 찾고, 찾은 얼국에 표시를 해주기 위한 변수 정의\n",
    "mp_face_detection = mp.solutions.face_detection #얼굴 검출을 위한 face_detection 모듈을 사용\n",
    "mp_drawing = mp.solutions.drawing_utils\n",
    "\n",
    "# 동영상 파일 불러오기\n",
    "cap = cv2.VideoCapture('face_video.mp4')\n",
    "\n",
    "# 이미지 불러오기\n",
    "image_right_eye = cv2.imread('right_eye.png') # 100 x 100\n",
    "image_left_eye = cv2.imread('left_eye.png')  # 100 x 100\n",
    "image_nose = cv2.imread('nose.png') # 300 x 100 (가로, 세로)\n",
    "\n",
    "with mp_face_detection.FaceDetection(\n",
    "    model_selection=0, min_detection_confidence=0.5) as face_detection:\n",
    "    #model_selection = 0 or 1  이고 0은 근거리, 1은 그것보다 멀때\n",
    "    #min_detection_confidence --> 신뢰도, 정확도 ,따라서 숫자가 높을 수록 정교 ,0~1\n",
    "      while cap.isOpened():\n",
    "        success, image = cap.read()\n",
    "        if not success:\n",
    "              print(\"Ignoring empty camera frame.\")\n",
    "              # If loading a video, use 'break' instead of 'continue'.\n",
    "              break\n",
    "\n",
    "        # To improve performance, optionally mark the image as not writeable to\n",
    "        # pass by reference.\n",
    "        image.flags.writeable = False\n",
    "        image = cv2.cvtColor(image, cv2.COLOR_BGR2RGB) # BGR을 RGB로 바꿈\n",
    "        results = face_detection.process(image)        #얼굴로 검출한 결과를 반환\n",
    "\n",
    "        # Draw the face detection annotations on the image.\n",
    "        image.flags.writeable = True\n",
    "        image = cv2.cvtColor(image, cv2.COLOR_RGB2BGR)\n",
    "        if results.detections:\n",
    "            #6개 특징: 오른쪽 눈, 왼족눈, 코 끝부분, 입중심, 오른쪽 구, 왼쪽 귀 (귀구슬점, 이주)\n",
    "              for detection in results.detections: # 결과를 활용해 얼굴을 그려줌\n",
    "                    mp_drawing.draw_detection(image, detection)\n",
    "                    print(detection)\n",
    "                    \n",
    "                    #특정위치 가져오기\n",
    "                    keypoints = detection.location_data.relative_keypoints\n",
    "                    right_eye = keypoints[0] # 오른쪽 눈\n",
    "                    left_eye = keypoints[1] # 왼쪽 눈\n",
    "                    nose_tip = keypoints[2] # 코 끝부분\n",
    "                    \n",
    "                    \n",
    "                    h, w, _= image.shape #height, width, channel : 이미지로부터 세로, 가로 크기 가져옴\n",
    "                    right_eye = (int(right_eye.x * w)-20, int(right_eye.y * h)-100) #이미지 내에서 실제 좌표 (x,y)\n",
    "                    left_eye = (int(left_eye.x * w)+20, int(left_eye.y * h)-100)\n",
    "                    nose_tip = (int(nose_tip.x * w), int(nose_tip.y * h))\n",
    "                    \n",
    "                \n",
    "                    # 양 눈에 동그라미 그리기\n",
    "                    #cv2.circle(image, left_eye, 50, (255, 0, 0), 10, cv2.LINE_AA) # 초록색\n",
    "                    #cv2.circle(image, right_eye, 50, (0, 255, 0), 10, cv2.LINE_AA) # 파란색\n",
    "                    \n",
    "                    #코에 동그라미 그리기\n",
    "                    #cv2.circle(image, nose_tip, 75, (0, 255, 255), 10, cv2.LINE_AA) # 노란색\n",
    "                    \n",
    "                    # 각 특징에다가 이미지 그리기\n",
    "                    image[right_eye[1]-50:right_eye[1] + 50, right_eye[0]-50:right_eye[0] + 50] = image_right_eye #사이즈가 100이므로 눈을 기준으로 위로 50, 아래로 50\n",
    "                    image[left_eye[1]-50:left_eye[1] + 50, left_eye[0]-50:left_eye[0] + 50] = image_left_eye\n",
    "                    image[nose_tip[1]-50: nose_tip[1] + 50, nose_tip[0]-150:nose_tip[0] + 150] = image_nose\n",
    "                    # right_eye[n] --> n ==1 이면 위아래, n ==0이면 좌우\n",
    "        # Flip the image horizontally for a selfie-view display.\n",
    "        cv2.imshow('MediaPipe Face Detection', cv2.resize(image, None, fx=0.5, fy=0.5))\n",
    "        \n",
    "        \n",
    "        if cv2.waitKey(1) == ord('q'):\n",
    "              break\n",
    "cap.release()\n",
    "cv2.destoryAllWindows()"
   ]
  },
  {
   "cell_type": "markdown",
   "id": "8284c424",
   "metadata": {},
   "source": [
    "## Face Detection VS Face Recognition"
   ]
  }
 ],
 "metadata": {
  "kernelspec": {
   "display_name": "Python 3 (ipykernel)",
   "language": "python",
   "name": "python3"
  },
  "language_info": {
   "codemirror_mode": {
    "name": "ipython",
    "version": 3
   },
   "file_extension": ".py",
   "mimetype": "text/x-python",
   "name": "python",
   "nbconvert_exporter": "python",
   "pygments_lexer": "ipython3",
   "version": "3.9.12"
  }
 },
 "nbformat": 4,
 "nbformat_minor": 5
}
